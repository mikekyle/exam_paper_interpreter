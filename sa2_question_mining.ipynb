{
 "cells": [
  {
   "cell_type": "code",
   "execution_count": 2,
   "metadata": {},
   "outputs": [],
   "source": [
    "import paperdecoding\n",
    "import numpy as np\n",
    "import pandas as pd\n",
    "import glob\n",
    "import re"
   ]
  },
  {
   "cell_type": "markdown",
   "metadata": {},
   "source": [
    "# All papers and reports to text #"
   ]
  },
  {
   "cell_type": "code",
   "execution_count": 14,
   "metadata": {},
   "outputs": [],
   "source": [
    "for path in glob.glob('sa2papers/*.pdf'):\n",
    "    pages = paperdecoding.gettextpages(path)\n",
    "    pages = [page for page in pages if page is not None]\n",
    "    outpath = path.replace('\\\\','_txt\\\\').replace('pdf','txt')\n",
    "    paperdecoding.pages_totext(pages,outpath)"
   ]
  },
  {
   "cell_type": "markdown",
   "metadata": {},
   "source": [
    "# Parse and tidy questions #\n"
   ]
  },
  {
   "cell_type": "code",
   "execution_count": 2,
   "metadata": {},
   "outputs": [],
   "source": [
    "all_papers = [paperdecoding.pagesfromtext(x) for x in glob.glob('sa2papers_txt/*[0-9].txt')]"
   ]
  },
  {
   "cell_type": "code",
   "execution_count": 12,
   "metadata": {},
   "outputs": [],
   "source": [
    "paperdates = [x[14:20] for x in glob.glob('sa2papers_txt/*[0-9].txt')]"
   ]
  },
  {
   "cell_type": "markdown",
   "metadata": {},
   "source": [
    "Regex out the questions - I'm not sure if sa2 has any single-part questions (ie. questions that don't have a [total x] at the end)."
   ]
  },
  {
   "cell_type": "code",
   "execution_count": 77,
   "metadata": {},
   "outputs": [],
   "source": [
    "qs = [re.findall('\\n\\d .+?\\[Total \\d+\\]', '\\n'.join(['']+p[1:]), re.DOTALL) for p in all_papers]\n",
    "qs[25].pop(3)\n",
    "qs[25].pop(1)\n",
    "marks = [[float(re.findall('\\[Total (\\d+?)\\]',q)[0]) for q in q_i] for q_i in qs]\n",
    "qs[13].append(re.findall('\\n3 .+?\\[\\d+\\]', '\\n'.join(['']+all_papers[13][1:]), re.DOTALL)[0])\n",
    "marks[13].append(10)\n",
    "bd = [[[float(mark) for mark in re.findall('\\[(\\d+?)\\]',q)] for q in q_i] for q_i in qs]\n",
    "bd[26][0]=[3.0, 6.0, 10.0, 8.0, 7.0, 6.0, 8.0]\n",
    "qnos = [[int(s[1]) for s in q_i] for q_i in qs]"
   ]
  },
  {
   "cell_type": "code",
   "execution_count": 67,
   "metadata": {},
   "outputs": [
    {
     "data": {
      "text/plain": [
       "[[32.0, 68.0],\n",
       " [26.0, 30.0, 44.0],\n",
       " [55.0, 45.0],\n",
       " [30.0, 45.0, 25.0],\n",
       " [68.0, 32.0],\n",
       " [70.0, 30.0],\n",
       " [43.0, 34.0, 23.0],\n",
       " [75.0, 25.0],\n",
       " [48.0, 52.0],\n",
       " [27.0, 29.0, 44.0],\n",
       " [57.0, 43.0],\n",
       " [35.0, 28.0, 37.0],\n",
       " [67.0, 33.0],\n",
       " [39.0, 51.0, 10.0],\n",
       " [37.0, 63.0],\n",
       " [50.0, 50.0],\n",
       " [60.0, 24.0, 16.0],\n",
       " [48.0, 52.0],\n",
       " [48.0, 52.0],\n",
       " [66.0, 34.0],\n",
       " [44.0, 56.0],\n",
       " [50.0, 50.0],\n",
       " [50.0, 50.0],\n",
       " [60.0, 40.0],\n",
       " [44.0, 56.0],\n",
       " [44.0, 56.0],\n",
       " [51.0, 52.0],\n",
       " [48.0, 52.0],\n",
       " [34.0, 66.0],\n",
       " [53.0, 47.0],\n",
       " [31.0, 29.0, 40.0],\n",
       " [29.0, 28.0, 43.0],\n",
       " [21.0, 29.0, 50.0]]"
      ]
     },
     "execution_count": 67,
     "metadata": {},
     "output_type": "execute_result"
    }
   ],
   "source": [
    "[[sum(x) for x in y] for y in bd]"
   ]
  },
  {
   "cell_type": "code",
   "execution_count": 78,
   "metadata": {},
   "outputs": [],
   "source": [
    "for i, q_i in enumerate(qs):\n",
    "    for j, q_ij in enumerate(qs[i]):\n",
    "        if marks[i][j] != sum(bd[i][j]):\n",
    "            print(i,j)"
   ]
  },
  {
   "cell_type": "code",
   "execution_count": 82,
   "metadata": {},
   "outputs": [],
   "source": [
    "q_dictlist = [{'full_date': paperdates[i],\n",
    "'question_no': qnos[i][j],\n",
    "'total_marks': marks[i][j],\n",
    "'breakdown': bd[i][j],\n",
    "'question_text': q_ij} for i, q_i in enumerate(qs) for j, q_ij in enumerate(qs[i])]"
   ]
  },
  {
   "cell_type": "code",
   "execution_count": 83,
   "metadata": {},
   "outputs": [
    {
     "data": {
      "text/html": [
       "<div>\n",
       "<style scoped>\n",
       "    .dataframe tbody tr th:only-of-type {\n",
       "        vertical-align: middle;\n",
       "    }\n",
       "\n",
       "    .dataframe tbody tr th {\n",
       "        vertical-align: top;\n",
       "    }\n",
       "\n",
       "    .dataframe thead th {\n",
       "        text-align: right;\n",
       "    }\n",
       "</style>\n",
       "<table border=\"1\" class=\"dataframe\">\n",
       "  <thead>\n",
       "    <tr style=\"text-align: right;\">\n",
       "      <th></th>\n",
       "      <th>full_date</th>\n",
       "      <th>question_no</th>\n",
       "      <th>total_marks</th>\n",
       "      <th>breakdown</th>\n",
       "      <th>question_text</th>\n",
       "    </tr>\n",
       "  </thead>\n",
       "  <tbody>\n",
       "    <tr>\n",
       "      <th>0</th>\n",
       "      <td>200504</td>\n",
       "      <td>1</td>\n",
       "      <td>32.0</td>\n",
       "      <td>[6.0, 8.0, 18.0]</td>\n",
       "      <td>\\n1  A UK life insurance company sells mainly ...</td>\n",
       "    </tr>\n",
       "    <tr>\n",
       "      <th>1</th>\n",
       "      <td>200504</td>\n",
       "      <td>2</td>\n",
       "      <td>68.0</td>\n",
       "      <td>[5.0, 11.0, 5.0, 9.0, 12.0, 26.0]</td>\n",
       "      <td>\\n2  Company A is a small UK mutual life insur...</td>\n",
       "    </tr>\n",
       "    <tr>\n",
       "      <th>2</th>\n",
       "      <td>200509</td>\n",
       "      <td>1</td>\n",
       "      <td>26.0</td>\n",
       "      <td>[12.0, 6.0, 8.0]</td>\n",
       "      <td>\\n1  A UK bank is about to launch an equity re...</td>\n",
       "    </tr>\n",
       "    <tr>\n",
       "      <th>3</th>\n",
       "      <td>200509</td>\n",
       "      <td>2</td>\n",
       "      <td>30.0</td>\n",
       "      <td>[16.0, 14.0]</td>\n",
       "      <td>\\n2  A UK life insurance company currently sel...</td>\n",
       "    </tr>\n",
       "    <tr>\n",
       "      <th>4</th>\n",
       "      <td>200509</td>\n",
       "      <td>3</td>\n",
       "      <td>44.0</td>\n",
       "      <td>[15.0, 6.0, 23.0]</td>\n",
       "      <td>\\n3  A UK mutual life insurance company distri...</td>\n",
       "    </tr>\n",
       "    <tr>\n",
       "      <th>...</th>\n",
       "      <td>...</td>\n",
       "      <td>...</td>\n",
       "      <td>...</td>\n",
       "      <td>...</td>\n",
       "      <td>...</td>\n",
       "    </tr>\n",
       "    <tr>\n",
       "      <th>71</th>\n",
       "      <td>202009</td>\n",
       "      <td>2</td>\n",
       "      <td>28.0</td>\n",
       "      <td>[3.0, 3.0, 4.0, 7.0, 11.0]</td>\n",
       "      <td>\\n2 \\n(i)  State the three lines of defence a ...</td>\n",
       "    </tr>\n",
       "    <tr>\n",
       "      <th>72</th>\n",
       "      <td>202009</td>\n",
       "      <td>3</td>\n",
       "      <td>43.0</td>\n",
       "      <td>[13.0, 17.0, 13.0]</td>\n",
       "      <td>\\n3 \\nA small life insurance company runs a wi...</td>\n",
       "    </tr>\n",
       "    <tr>\n",
       "      <th>73</th>\n",
       "      <td>202104</td>\n",
       "      <td>1</td>\n",
       "      <td>21.0</td>\n",
       "      <td>[6.0, 5.0, 10.0]</td>\n",
       "      <td>\\n1  A life insurance company sells a unit-lin...</td>\n",
       "    </tr>\n",
       "    <tr>\n",
       "      <th>74</th>\n",
       "      <td>202104</td>\n",
       "      <td>2</td>\n",
       "      <td>29.0</td>\n",
       "      <td>[3.0, 14.0, 6.0, 6.0]</td>\n",
       "      <td>\\n2  A life insurance company started writing ...</td>\n",
       "    </tr>\n",
       "    <tr>\n",
       "      <th>75</th>\n",
       "      <td>202104</td>\n",
       "      <td>3</td>\n",
       "      <td>50.0</td>\n",
       "      <td>[5.0, 4.0, 6.0, 5.0, 9.0, 3.0, 9.0, 9.0]</td>\n",
       "      <td>\\n3  (i)  List areas of a life insurance compa...</td>\n",
       "    </tr>\n",
       "  </tbody>\n",
       "</table>\n",
       "<p>76 rows × 5 columns</p>\n",
       "</div>"
      ],
      "text/plain": [
       "   full_date  question_no  total_marks  \\\n",
       "0     200504            1         32.0   \n",
       "1     200504            2         68.0   \n",
       "2     200509            1         26.0   \n",
       "3     200509            2         30.0   \n",
       "4     200509            3         44.0   \n",
       "..       ...          ...          ...   \n",
       "71    202009            2         28.0   \n",
       "72    202009            3         43.0   \n",
       "73    202104            1         21.0   \n",
       "74    202104            2         29.0   \n",
       "75    202104            3         50.0   \n",
       "\n",
       "                                   breakdown  \\\n",
       "0                           [6.0, 8.0, 18.0]   \n",
       "1          [5.0, 11.0, 5.0, 9.0, 12.0, 26.0]   \n",
       "2                           [12.0, 6.0, 8.0]   \n",
       "3                               [16.0, 14.0]   \n",
       "4                          [15.0, 6.0, 23.0]   \n",
       "..                                       ...   \n",
       "71                [3.0, 3.0, 4.0, 7.0, 11.0]   \n",
       "72                        [13.0, 17.0, 13.0]   \n",
       "73                          [6.0, 5.0, 10.0]   \n",
       "74                     [3.0, 14.0, 6.0, 6.0]   \n",
       "75  [5.0, 4.0, 6.0, 5.0, 9.0, 3.0, 9.0, 9.0]   \n",
       "\n",
       "                                        question_text  \n",
       "0   \\n1  A UK life insurance company sells mainly ...  \n",
       "1   \\n2  Company A is a small UK mutual life insur...  \n",
       "2   \\n1  A UK bank is about to launch an equity re...  \n",
       "3   \\n2  A UK life insurance company currently sel...  \n",
       "4   \\n3  A UK mutual life insurance company distri...  \n",
       "..                                                ...  \n",
       "71  \\n2 \\n(i)  State the three lines of defence a ...  \n",
       "72  \\n3 \\nA small life insurance company runs a wi...  \n",
       "73  \\n1  A life insurance company sells a unit-lin...  \n",
       "74  \\n2  A life insurance company started writing ...  \n",
       "75  \\n3  (i)  List areas of a life insurance compa...  \n",
       "\n",
       "[76 rows x 5 columns]"
      ]
     },
     "execution_count": 83,
     "metadata": {},
     "output_type": "execute_result"
    }
   ],
   "source": [
    "qdf = pd.DataFrame(q_dictlist)\n",
    "qdf"
   ]
  },
  {
   "cell_type": "markdown",
   "metadata": {},
   "source": [
    "# Parse and tidy answers"
   ]
  },
  {
   "cell_type": "code",
   "execution_count": 3,
   "metadata": {},
   "outputs": [],
   "source": [
    "all_reports = [paperdecoding.pagesfromtext(x) for x in glob.glob('sa2papers_txt/*[0-9]report.txt')]"
   ]
  },
  {
   "cell_type": "code",
   "execution_count": 8,
   "metadata": {},
   "outputs": [],
   "source": [
    "#print(all_reports[0][1])"
   ]
  },
  {
   "cell_type": "code",
   "execution_count": 9,
   "metadata": {},
   "outputs": [],
   "source": [
    "reportdates = [paperdecoding.getdatefrompaper(report) for report in all_reports]"
   ]
  },
  {
   "cell_type": "code",
   "execution_count": 10,
   "metadata": {},
   "outputs": [],
   "source": [
    "rqnos = [re.split(r'\\nQ?(\\d) ', ''.join(report))[1::2] for report in all_reports]\n",
    "rqs = [re.split(r'\\nQ?(\\d) ', ''.join(report))[2::2] for report in all_reports]"
   ]
  },
  {
   "cell_type": "code",
   "execution_count": 12,
   "metadata": {},
   "outputs": [
    {
     "data": {
      "text/plain": [
       "' (i)  (a)  These regulations give powers to some regulators (e.g. the FSA) and \\nconsumer bodies to challenge companies that use unfair terms in their \\nstandardised consumer contracts.      \\nThe regulations do not offer redress to individual consumers.  If the \\npolicyholder wishes to raise a complaint under these regulations, then \\nhe would have to do so via another body, such as the Financial \\nOmbudsman Service.  However, the first step is for Company A to \\naddress the issues raised by the policyholder and see whether they can \\nbe resolved satisfactorily.      \\nThe general test of whether a term is unfair is based on whether it \\ncould give significant advantage to the company that could cause \\ndetriment to the consumers.  It is not the case here that Company A \\nobtains significant advantage from the terms of the with profits bonds \\nthat cause detriment to consumers.  In fact the terms aim to protect \\npolicyholders, as will be explained later in the response.      \\nExamples of unfair terms might include:  \\nAllowing the company to change the terms of the contract without \\nconsultation.  \\nCharging a disproportionately large sum if the contract is \\ncancelled.  \\nAllowing the company to change the characteristic of its service \\nwithout consultation.  \\nGiving the company the absolute right to interpret any term of the \\ncontract as it sees fit.  \\nBeing misleading about the terms of the contract.                 \\nNone of these examples is relevant in this case.      \\nThis question is straightforward bookwork applied to a specific \\nsituation, and was done well by those candidates who had clearly \\nlearned the course well.  A few candidates made the assumption that \\nthe policyholder was correct and that the contract was  unfair .  If \\nthat were the case then it is highly unlikely that the company would \\nonly be realising this as a result of this policyholder s letter.  If the \\ncompany s compliance department had failed in their duties then it \\ncould be assumed that the FSA would have intervened by now, given \\nthat this product has been on sale for several years and the regulations \\napply to the nature of the standardised contract terms.  However, some \\ncredit was given if candidates simply mentioned that the company \\nshould double check its literature for potentially misleading terms.  \\nOne or two candidates made the assumption that the summarised \\nPage 8   \\nSubject SA2 (Life Insurance Specialist Applications)   April 2005  Examiners  Report  \\ndescription of the policy given in the question is the only information \\nthat the policyholder would have seen, which is unlikely to have been \\nthe case! \\n      \\n(b)  Surrender penalty     \\nThe market value adjustment (MVA) is an adjustment made to the \\nsurrender value at the discretion of the insurance company in \\naccordance with the contract terms.        \\nIt differs from a fixed surrender penalty that would automatically be \\napplied to the value of a bond in accordance with terms specified at \\noutset, irrespective of market conditions.       \\nCommunication      \\nAll marketing and product literature contains full explanation of the \\nMVA, including the circumstances in which it will be applied.  It is \\nalso described in the company s with profits guides and PPFM \\ndocuments.      \\nAn MVA will not be applied to a death claim, and can only be applied \\nif the bond is surrendered at other than the tenth anniversary, such as in \\nthis case.      \\nPurpose of an MVA     \\nIt will normally be applied in the event of poor returns on the assets in \\nwhich the bond is invested, such as the recent fall in equity markets.      \\nCompany A aims to return to each with profits policyholder a fair \\nshare of the profits earned by their contract.    In order to provide some \\nprotection from significant fluctuations in the investment markets, the \\namount of surpluses allocated are subject to smoothing.      \\nThe 10% market value adjustment reflects part, but not all, of the \\nrecent equity market fall; some smoothing is likely to have been \\napplied.      \\nEquity to other policyholders     \\nThe market value adjustment is applied in order to ensure fair and \\nequitable treatment of all policyholders of Company A, including those \\nwho choose not to surrender at this time.      \\nIf a market value adjustment was not applied, then the cost of paying a \\nbenefit in excess of the actual earned surpluses would have to be met \\nby any spare assets (the  estate ) in the with profits fund.   \\nPage 9  \\nSubject SA2 (Life Insurance Specialist Applications)   April 2005  Examiners  Report  \\nReducing the estate reduces the security of the fund for the remaining \\npolicyholders.  These policyholders would also have to bear the cost \\ndirectly once the estate became exhausted.     \\nSelection      \\nIf a market value adjustment is not applied in the event of a fall in \\nequity markets, then it is possible that policyholders could take \\nadvantage of this position by surrendering their bond and then benefit \\nfrom reinvesting the proceeds in a unit-linked product whilst equity \\nprices are relatively low.   This potential for selection against Company \\nA increases the risk to the estate and to the remaining policyholders.      \\nWhilst this particular policyholder is not necessarily selecting against \\nthe company, it would not be appropriate to attempt to apply the \\nadjustment only to some policies and not to others; it would be very \\ndifficult to determine (and prove) whether or not selection is involved \\nin individual cases.         \\nOther considerations     \\nCompany A might also point out the extent to which it has applied a \\nmarket value adjustment in the past, and the extent to which other \\ninsurance companies are currently applying similar market value \\nadjustments.      \\nConclusion     \\nGiven these explanations, Company A does not consider it appropriate \\nto remove the MVA from this surrender payment.     \\nThis question was reasonably well answered, although relatively few \\ncandidates linked the 10% MVA to the actual investment conditions in \\norder to help convince the policyholder that it is a  fair  amount.  \\nSome candidates appeared to be confused about the nature of \\nsmoothing, which in practice can apply to both the unitised fund and \\nthe asset share.  Some seemed to think that using an MVA \\nautomatically removes all smoothing, and others that an MVA is \\napplied in order to achieve smoothing   neither of which is accurate.       \\n(c)  Impact of market movements     \\nThe proportion of assets invested in equities has reduced from 70% \\nfive years ago to 50% at present, measured in terms of market value.  \\nAlmost half of the change is simply due to the recent 30% fall in equity \\nmarket values, which has reduced the value of the equity portfolio \\nsignificantly whilst fixed interest values have remained relatively \\nunchanged.  Poor equity performance in previous years will also have \\ncontributed.   \\nPage 10     \\nSubject SA2 (Life Insurance Specialist Applications)   April 2005  Examiners  Report  \\nThe remainder of the change is the result of a management decision to \\nmove up to around 10% of the with profits investment portfolio from \\nequities into fixed interest.      \\nSolvency protection      \\nThe key driver for this change is likely to have been the preservation of \\nthe financial soundness of the fund.   The continued weak performance \\nof equity markets puts increased pressure on the solvency of Company \\nA.   It has therefore been necessary to move into lower risk (and higher \\nyield) assets.      \\nProtection of the ongoing solvency of the company is a key \\nconsideration in ensuring that the expectations of policyholders are met \\nregarding payment of their benefits.      \\nOther points     \\nCompany A retains discretion to change the asset mix of the with \\nprofits fund, within certain limits.   This discretion is clearly referred to \\nin the marketing literature and with profits guide / PPFM.      \\nThe company should emphasise that the equity proportion remains \\nwithin a reasonable range, and comparable with other companies  with \\nprofits funds (since these companies have experienced the same \\neconomic environment).      \\nConclusion     \\nCompany A does not therefore believe that it has acted improperly.     \\nMany candidates discussed management actions to protect solvency, \\nseveral described the impact on asset mix of the market movements, \\nbut very few suggested both.  Of those who realised that the passive \\nmarket movements were a contributor to the change, many incorrectly \\ncalculated this to be the sole component by calculating the equity \\nproportion after the recent fall to be 70% x (1-0.3) = 49%, without \\ntaking into account the dilution from fixed interest. [Calculation \\nshould be approx {70 x (1-0.3)} / {70 x (1-0.3)+30} = 62%]    \\n(ii)    \\n(Note that the explanation of the calculation approach is included here for \\ninformation.  Candidates did not have to explain their methodology in order to \\nachieve full marks.)    \\nThe holder of a put option has the option to sell his underlying assets (S), \\nwhose price will be volatile, for a fixed price (X) at the exercise date.  He will \\nthus exercise the option when X exceeds the value that his underlying assets \\nhave achieved at the exercise date.  This effectively gives the underlying \\nassets a minimum value of X at the exercise date. \\nPage 11                     \\nSubject SA2 (Life Insurance Specialist Applications)   April 2005  Examiners  Report  \\nThis has the same characteristics as the ten year guarantee on this bond \\nproduct.  The company holds a portfolio of underlying assets in respect of \\neach policyholder, the value of which will be volatile in future: the asset share.  \\nHowever, each policy has a minimum benefit amount at the ten year \\nanniversary date, since the company cannot apply an MVA and must therefore \\npay the higher of the asset share and the value of the guaranteed benefits at \\nthat date.  This guaranteed value is thus equivalent to a strike price.    \\nThe expected cost of the guarantee for a single policy can thus be estimated as \\nthe cost of a ten year put option on the initial asset share (S) with an exercise \\nprice of the expected guaranteed benefit after ten years (X).    \\nThe guaranteed benefit after ten years is the expected value of the unit fund at \\nthat time.  In this example this is the value of initial allocated units (i.e. 95% \\nof the premium) increased by ten years  expected annual bonus of 4% p.a..    \\nHence X  =  20,000   0.95   1.0410 = 28,125.     \\nS is the amount of  volatile assets  purchased at the start of the policy, i.e. the \\ninitial asset share.  This is calculated as premium less expense charges, which \\nin this example are equivalent to 7.5% of premium.    \\nHence S   =   20,000   0.925 = 18,500.     \\nThe ten year period to the guarantee date is equivalent to the time to option \\nexercise date, i.e. T = 10.        \\nOther information in the question gives   = 16.58% and r = 5%.     \\nd =  {ln(S / X) + (r +  2 / 2).T)} / ( . T)'"
      ]
     },
     "execution_count": 12,
     "metadata": {},
     "output_type": "execute_result"
    }
   ],
   "source": [
    "rqs[0][1]"
   ]
  }
 ],
 "metadata": {
  "interpreter": {
   "hash": "9102f61ee87462799eece785ac1fe384d45a82c920351968d5f1809e31695a66"
  },
  "kernelspec": {
   "display_name": "Python 3.8.0 64-bit",
   "language": "python",
   "name": "python3"
  },
  "language_info": {
   "codemirror_mode": {
    "name": "ipython",
    "version": 3
   },
   "file_extension": ".py",
   "mimetype": "text/x-python",
   "name": "python",
   "nbconvert_exporter": "python",
   "pygments_lexer": "ipython3",
   "version": "3.8.0"
  },
  "orig_nbformat": 4
 },
 "nbformat": 4,
 "nbformat_minor": 2
}
