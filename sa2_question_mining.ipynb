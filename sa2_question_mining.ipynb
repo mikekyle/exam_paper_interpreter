{
 "cells": [
  {
   "cell_type": "code",
   "execution_count": 14,
   "metadata": {},
   "outputs": [],
   "source": [
    "import paperdecoding\n",
    "import numpy as np\n",
    "import pandas as pd\n",
    "import glob\n",
    "import re"
   ]
  },
  {
   "cell_type": "markdown",
   "metadata": {},
   "source": [
    "# All papers and reports to text #"
   ]
  },
  {
   "cell_type": "code",
   "execution_count": 14,
   "metadata": {},
   "outputs": [],
   "source": [
    "for path in glob.glob('sa2papers/*.pdf'):\n",
    "    pages = paperdecoding.gettextpages(path)\n",
    "    pages = [page for page in pages if page is not None]\n",
    "    outpath = path.replace('\\\\','_txt\\\\').replace('pdf','txt')\n",
    "    paperdecoding.pages_totext(pages,outpath)"
   ]
  },
  {
   "cell_type": "markdown",
   "metadata": {},
   "source": [
    "# Parse and tidy questions #\n"
   ]
  },
  {
   "cell_type": "code",
   "execution_count": 2,
   "metadata": {},
   "outputs": [],
   "source": [
    "all_papers = [paperdecoding.pagesfromtext(x) for x in glob.glob('sa2papers_txt/*[0-9].txt')]"
   ]
  },
  {
   "cell_type": "code",
   "execution_count": 12,
   "metadata": {},
   "outputs": [],
   "source": [
    "paperdates = [x[14:20] for x in glob.glob('sa2papers_txt/*[0-9].txt')]"
   ]
  },
  {
   "cell_type": "markdown",
   "metadata": {},
   "source": [
    "Regex out the questions - I'm not sure if sa2 has any single-part questions (ie. questions that don't have a [total x] at the end)."
   ]
  },
  {
   "cell_type": "code",
   "execution_count": 77,
   "metadata": {},
   "outputs": [],
   "source": [
    "qs = [re.findall('\\n\\d .+?\\[Total \\d+\\]', '\\n'.join(['']+p[1:]), re.DOTALL) for p in all_papers]\n",
    "qs[25].pop(3)\n",
    "qs[25].pop(1)\n",
    "marks = [[float(re.findall('\\[Total (\\d+?)\\]',q)[0]) for q in q_i] for q_i in qs]\n",
    "qs[13].append(re.findall('\\n3 .+?\\[\\d+\\]', '\\n'.join(['']+all_papers[13][1:]), re.DOTALL)[0])\n",
    "marks[13].append(10)\n",
    "bd = [[[float(mark) for mark in re.findall('\\[(\\d+?)\\]',q)] for q in q_i] for q_i in qs]\n",
    "bd[26][0]=[3.0, 6.0, 10.0, 8.0, 7.0, 6.0, 8.0]\n",
    "qnos = [[int(s[1]) for s in q_i] for q_i in qs]"
   ]
  },
  {
   "cell_type": "code",
   "execution_count": 67,
   "metadata": {},
   "outputs": [
    {
     "data": {
      "text/plain": [
       "[[32.0, 68.0],\n",
       " [26.0, 30.0, 44.0],\n",
       " [55.0, 45.0],\n",
       " [30.0, 45.0, 25.0],\n",
       " [68.0, 32.0],\n",
       " [70.0, 30.0],\n",
       " [43.0, 34.0, 23.0],\n",
       " [75.0, 25.0],\n",
       " [48.0, 52.0],\n",
       " [27.0, 29.0, 44.0],\n",
       " [57.0, 43.0],\n",
       " [35.0, 28.0, 37.0],\n",
       " [67.0, 33.0],\n",
       " [39.0, 51.0, 10.0],\n",
       " [37.0, 63.0],\n",
       " [50.0, 50.0],\n",
       " [60.0, 24.0, 16.0],\n",
       " [48.0, 52.0],\n",
       " [48.0, 52.0],\n",
       " [66.0, 34.0],\n",
       " [44.0, 56.0],\n",
       " [50.0, 50.0],\n",
       " [50.0, 50.0],\n",
       " [60.0, 40.0],\n",
       " [44.0, 56.0],\n",
       " [44.0, 56.0],\n",
       " [51.0, 52.0],\n",
       " [48.0, 52.0],\n",
       " [34.0, 66.0],\n",
       " [53.0, 47.0],\n",
       " [31.0, 29.0, 40.0],\n",
       " [29.0, 28.0, 43.0],\n",
       " [21.0, 29.0, 50.0]]"
      ]
     },
     "execution_count": 67,
     "metadata": {},
     "output_type": "execute_result"
    }
   ],
   "source": [
    "[[sum(x) for x in y] for y in bd]"
   ]
  },
  {
   "cell_type": "code",
   "execution_count": 78,
   "metadata": {},
   "outputs": [],
   "source": [
    "for i, q_i in enumerate(qs):\n",
    "    for j, q_ij in enumerate(qs[i]):\n",
    "        if marks[i][j] != sum(bd[i][j]):\n",
    "            print(i,j)"
   ]
  },
  {
   "cell_type": "code",
   "execution_count": 82,
   "metadata": {},
   "outputs": [],
   "source": [
    "q_dictlist = [{'full_date': paperdates[i],\n",
    "'question_no': qnos[i][j],\n",
    "'total_marks': marks[i][j],\n",
    "'breakdown': bd[i][j],\n",
    "'question_text': q_ij} for i, q_i in enumerate(qs) for j, q_ij in enumerate(qs[i])]"
   ]
  },
  {
   "cell_type": "code",
   "execution_count": 83,
   "metadata": {},
   "outputs": [
    {
     "data": {
      "text/html": [
       "<div>\n",
       "<style scoped>\n",
       "    .dataframe tbody tr th:only-of-type {\n",
       "        vertical-align: middle;\n",
       "    }\n",
       "\n",
       "    .dataframe tbody tr th {\n",
       "        vertical-align: top;\n",
       "    }\n",
       "\n",
       "    .dataframe thead th {\n",
       "        text-align: right;\n",
       "    }\n",
       "</style>\n",
       "<table border=\"1\" class=\"dataframe\">\n",
       "  <thead>\n",
       "    <tr style=\"text-align: right;\">\n",
       "      <th></th>\n",
       "      <th>full_date</th>\n",
       "      <th>question_no</th>\n",
       "      <th>total_marks</th>\n",
       "      <th>breakdown</th>\n",
       "      <th>question_text</th>\n",
       "    </tr>\n",
       "  </thead>\n",
       "  <tbody>\n",
       "    <tr>\n",
       "      <th>0</th>\n",
       "      <td>200504</td>\n",
       "      <td>1</td>\n",
       "      <td>32.0</td>\n",
       "      <td>[6.0, 8.0, 18.0]</td>\n",
       "      <td>\\n1  A UK life insurance company sells mainly ...</td>\n",
       "    </tr>\n",
       "    <tr>\n",
       "      <th>1</th>\n",
       "      <td>200504</td>\n",
       "      <td>2</td>\n",
       "      <td>68.0</td>\n",
       "      <td>[5.0, 11.0, 5.0, 9.0, 12.0, 26.0]</td>\n",
       "      <td>\\n2  Company A is a small UK mutual life insur...</td>\n",
       "    </tr>\n",
       "    <tr>\n",
       "      <th>2</th>\n",
       "      <td>200509</td>\n",
       "      <td>1</td>\n",
       "      <td>26.0</td>\n",
       "      <td>[12.0, 6.0, 8.0]</td>\n",
       "      <td>\\n1  A UK bank is about to launch an equity re...</td>\n",
       "    </tr>\n",
       "    <tr>\n",
       "      <th>3</th>\n",
       "      <td>200509</td>\n",
       "      <td>2</td>\n",
       "      <td>30.0</td>\n",
       "      <td>[16.0, 14.0]</td>\n",
       "      <td>\\n2  A UK life insurance company currently sel...</td>\n",
       "    </tr>\n",
       "    <tr>\n",
       "      <th>4</th>\n",
       "      <td>200509</td>\n",
       "      <td>3</td>\n",
       "      <td>44.0</td>\n",
       "      <td>[15.0, 6.0, 23.0]</td>\n",
       "      <td>\\n3  A UK mutual life insurance company distri...</td>\n",
       "    </tr>\n",
       "    <tr>\n",
       "      <th>...</th>\n",
       "      <td>...</td>\n",
       "      <td>...</td>\n",
       "      <td>...</td>\n",
       "      <td>...</td>\n",
       "      <td>...</td>\n",
       "    </tr>\n",
       "    <tr>\n",
       "      <th>71</th>\n",
       "      <td>202009</td>\n",
       "      <td>2</td>\n",
       "      <td>28.0</td>\n",
       "      <td>[3.0, 3.0, 4.0, 7.0, 11.0]</td>\n",
       "      <td>\\n2 \\n(i)  State the three lines of defence a ...</td>\n",
       "    </tr>\n",
       "    <tr>\n",
       "      <th>72</th>\n",
       "      <td>202009</td>\n",
       "      <td>3</td>\n",
       "      <td>43.0</td>\n",
       "      <td>[13.0, 17.0, 13.0]</td>\n",
       "      <td>\\n3 \\nA small life insurance company runs a wi...</td>\n",
       "    </tr>\n",
       "    <tr>\n",
       "      <th>73</th>\n",
       "      <td>202104</td>\n",
       "      <td>1</td>\n",
       "      <td>21.0</td>\n",
       "      <td>[6.0, 5.0, 10.0]</td>\n",
       "      <td>\\n1  A life insurance company sells a unit-lin...</td>\n",
       "    </tr>\n",
       "    <tr>\n",
       "      <th>74</th>\n",
       "      <td>202104</td>\n",
       "      <td>2</td>\n",
       "      <td>29.0</td>\n",
       "      <td>[3.0, 14.0, 6.0, 6.0]</td>\n",
       "      <td>\\n2  A life insurance company started writing ...</td>\n",
       "    </tr>\n",
       "    <tr>\n",
       "      <th>75</th>\n",
       "      <td>202104</td>\n",
       "      <td>3</td>\n",
       "      <td>50.0</td>\n",
       "      <td>[5.0, 4.0, 6.0, 5.0, 9.0, 3.0, 9.0, 9.0]</td>\n",
       "      <td>\\n3  (i)  List areas of a life insurance compa...</td>\n",
       "    </tr>\n",
       "  </tbody>\n",
       "</table>\n",
       "<p>76 rows × 5 columns</p>\n",
       "</div>"
      ],
      "text/plain": [
       "   full_date  question_no  total_marks  \\\n",
       "0     200504            1         32.0   \n",
       "1     200504            2         68.0   \n",
       "2     200509            1         26.0   \n",
       "3     200509            2         30.0   \n",
       "4     200509            3         44.0   \n",
       "..       ...          ...          ...   \n",
       "71    202009            2         28.0   \n",
       "72    202009            3         43.0   \n",
       "73    202104            1         21.0   \n",
       "74    202104            2         29.0   \n",
       "75    202104            3         50.0   \n",
       "\n",
       "                                   breakdown  \\\n",
       "0                           [6.0, 8.0, 18.0]   \n",
       "1          [5.0, 11.0, 5.0, 9.0, 12.0, 26.0]   \n",
       "2                           [12.0, 6.0, 8.0]   \n",
       "3                               [16.0, 14.0]   \n",
       "4                          [15.0, 6.0, 23.0]   \n",
       "..                                       ...   \n",
       "71                [3.0, 3.0, 4.0, 7.0, 11.0]   \n",
       "72                        [13.0, 17.0, 13.0]   \n",
       "73                          [6.0, 5.0, 10.0]   \n",
       "74                     [3.0, 14.0, 6.0, 6.0]   \n",
       "75  [5.0, 4.0, 6.0, 5.0, 9.0, 3.0, 9.0, 9.0]   \n",
       "\n",
       "                                        question_text  \n",
       "0   \\n1  A UK life insurance company sells mainly ...  \n",
       "1   \\n2  Company A is a small UK mutual life insur...  \n",
       "2   \\n1  A UK bank is about to launch an equity re...  \n",
       "3   \\n2  A UK life insurance company currently sel...  \n",
       "4   \\n3  A UK mutual life insurance company distri...  \n",
       "..                                                ...  \n",
       "71  \\n2 \\n(i)  State the three lines of defence a ...  \n",
       "72  \\n3 \\nA small life insurance company runs a wi...  \n",
       "73  \\n1  A life insurance company sells a unit-lin...  \n",
       "74  \\n2  A life insurance company started writing ...  \n",
       "75  \\n3  (i)  List areas of a life insurance compa...  \n",
       "\n",
       "[76 rows x 5 columns]"
      ]
     },
     "execution_count": 83,
     "metadata": {},
     "output_type": "execute_result"
    }
   ],
   "source": [
    "qdf = pd.DataFrame(q_dictlist)\n",
    "qdf"
   ]
  }
 ],
 "metadata": {
  "interpreter": {
   "hash": "9102f61ee87462799eece785ac1fe384d45a82c920351968d5f1809e31695a66"
  },
  "kernelspec": {
   "display_name": "Python 3.8.0 64-bit",
   "language": "python",
   "name": "python3"
  },
  "language_info": {
   "codemirror_mode": {
    "name": "ipython",
    "version": 3
   },
   "file_extension": ".py",
   "mimetype": "text/x-python",
   "name": "python",
   "nbconvert_exporter": "python",
   "pygments_lexer": "ipython3",
   "version": "3.8.0"
  },
  "orig_nbformat": 4
 },
 "nbformat": 4,
 "nbformat_minor": 2
}
